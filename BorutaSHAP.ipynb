{
 "cells": [
  {
   "cell_type": "markdown",
   "id": "9ed002de",
   "metadata": {},
   "source": [
    "# Imports"
   ]
  },
  {
   "cell_type": "code",
   "execution_count": null,
   "id": "a43ddb28",
   "metadata": {},
   "outputs": [],
   "source": [
    "import pandas as pd\n",
    "import matplotlib.pyplot as plt\n",
    "import seaborn as sns\n",
    "from sklearn.ensemble import RandomForestClassifier\n",
    "from sklearn.model_selection import train_test_split\n",
    "from sklearn.preprocessing import StandardScaler\n",
    "from sklearn.metrics import confusion_matrix, classification_report, accuracy_score\n",
    "import shap\n",
    "from BorutaShap import BorutaShap\n",
    "import xgboost"
   ]
  },
  {
   "cell_type": "markdown",
   "id": "7c8f5200",
   "metadata": {},
   "source": [
    "# Loading/ Splitting Data"
   ]
  },
  {
   "cell_type": "code",
   "execution_count": null,
   "id": "4661e0a1",
   "metadata": {},
   "outputs": [],
   "source": [
    "#currently shows for the three class case. Can be changed by removing the \"Undecided\" class name and mapping all\n",
    "# -1's to 0's\n",
    "class_names = ['Not Staying',\"Undecided\",\"Staying\"]\n",
    "X_train= pd.read_excel('X_train.xlsx')\n",
    "X_test=pd.read_excel('X_test.xlsx')\n",
    "X_val=pd.read_excel('X_val.xlsx')\n",
    "y_train=pd.read_excel('y_train.xlsx')\n",
    "y_test=pd.read_excel('y_test.xlsx')\n",
    "y_val=pd.read_excel('y_val.xlsx')\n",
    "\n",
    "#y dataframes ending in 0 are for predicting post-ADSC retention\n",
    "#y dataframes ending in 1 are for predicting retention until retirement\n",
    "y_train0 = y_train['intention_beyond_commitment']\n",
    "y_train1 = y_train['intention_toward_retirement']\n",
    "y_val0 = y_val['intention_beyond_commitment']\n",
    "y_val1 = y_val['intention_toward_retirement']\n",
    "y_test0 = y_test['intention_beyond_commitment']\n",
    "y_test1 = y_test['intention_toward_retirement']\n"
   ]
  },
  {
   "cell_type": "code",
   "execution_count": null,
   "id": "f9ef1b66",
   "metadata": {},
   "outputs": [],
   "source": [
    "#Normalizing our data based on the distribution of the training data\n",
    "scaler = StandardScaler()\n",
    "scaler.fit(X_train)\n",
    "X_train = pd.DataFrame(scaler.transform(X_train), columns = X_train.columns)\n",
    "X_val = pd.DataFrame(scaler.transform(X_val), columns = X_val.columns)\n",
    "X_test = pd.DataFrame(scaler.transform(X_test), columns = X_test.columns)"
   ]
  },
  {
   "cell_type": "code",
   "execution_count": null,
   "id": "1e5f1ba0",
   "metadata": {},
   "outputs": [],
   "source": [
    "#creating a RF for each case (with understanding or not) and also for both types of retention we're interested in\n",
    "#parameters were determined by a hyperparameter search on baseline RF's\n",
    "clf0_w_u = RandomForestClassifier(n_estimators=100, max_depth = 50)\n",
    "clf1_w_u= RandomForestClassifier(n_estimators=100, max_depth = 15)\n",
    "clf0_n_u= RandomForestClassifier(n_estimators=100, max_depth = 75)\n",
    "clf1_n_u= RandomForestClassifier(n_estimators=100, max_depth = 50)"
   ]
  },
  {
   "cell_type": "code",
   "execution_count": null,
   "id": "9ee8c691",
   "metadata": {},
   "outputs": [],
   "source": [
    "#create a feature selector and fit it\n",
    "feature_selector0_w_u = BorutaShap.BorutaShap(model = clf0_w_u, importance_measure = 'shap', classification = True)\n"
   ]
  },
  {
   "cell_type": "code",
   "execution_count": null,
   "id": "59ee8907",
   "metadata": {},
   "outputs": [],
   "source": [
    "feature_selector0_w_u.fit(X=X_train, y=y_train0, n_trials =100)"
   ]
  },
  {
   "cell_type": "markdown",
   "id": "91ffe92e",
   "metadata": {},
   "source": [
    "feature_selector0_w_u.plot(X_size=12, figsize=(12,8),\n",
    "            y_scale='log', which_features='all')"
   ]
  },
  {
   "cell_type": "code",
   "execution_count": null,
   "id": "8580f676",
   "metadata": {},
   "outputs": [],
   "source": [
    "feature_selector0_w_u.TentativeRoughFix()"
   ]
  },
  {
   "cell_type": "code",
   "execution_count": null,
   "id": "371238b3",
   "metadata": {},
   "outputs": [],
   "source": [
    "# Returns a subset of the original data with the selected features\n",
    "subset = feature_selector0_w_u.Subset()\n",
    "subset.head()\n",
    "subset.to_excel('BS_subset0_train_with_und.xlsx')"
   ]
  },
  {
   "cell_type": "code",
   "execution_count": null,
   "id": "3b5f8902",
   "metadata": {},
   "outputs": [],
   "source": [
    "feature_selector0_w_u.results_to_csv(filename='feature_importance0_with_und')\n"
   ]
  },
  {
   "cell_type": "code",
   "execution_count": null,
   "id": "21dc2b9a",
   "metadata": {},
   "outputs": [],
   "source": []
  },
  {
   "cell_type": "code",
   "execution_count": null,
   "id": "8314147b",
   "metadata": {},
   "outputs": [],
   "source": [
    "#create a feature selector and fit it\n",
    "feature_selector1_w_u = BorutaShap.BorutaShap(model = clf1_w_u, importance_measure = 'shap', classification = True)"
   ]
  },
  {
   "cell_type": "code",
   "execution_count": null,
   "id": "5a83132c",
   "metadata": {},
   "outputs": [],
   "source": [
    "feature_selector1_w_u.fit(X=X_train, y=y_train1, n_trials = 100)"
   ]
  },
  {
   "cell_type": "markdown",
   "id": "33743eff",
   "metadata": {},
   "source": [
    "feature_selector1_w_u.plot(X_size=12, figsize=(12,8),\n",
    "            y_scale='log', which_features='all')"
   ]
  },
  {
   "cell_type": "code",
   "execution_count": null,
   "id": "1df69918",
   "metadata": {},
   "outputs": [],
   "source": [
    "feature_selector1_w_u.TentativeRoughFix()"
   ]
  },
  {
   "cell_type": "code",
   "execution_count": null,
   "id": "46054a44",
   "metadata": {},
   "outputs": [],
   "source": [
    "# Returns a subset of the original data with the selected features\n",
    "subset = feature_selector1_w_u.Subset()\n",
    "print(subset)"
   ]
  },
  {
   "cell_type": "code",
   "execution_count": null,
   "id": "3a71823b",
   "metadata": {},
   "outputs": [],
   "source": [
    "subset.to_excel('BS_subset1_train_with_und.xlsx')"
   ]
  },
  {
   "cell_type": "code",
   "execution_count": null,
   "id": "1514b675",
   "metadata": {},
   "outputs": [],
   "source": [
    "feature_selector1_w_u.results_to_csv(filename='feature_importance1_with_und')\n"
   ]
  },
  {
   "cell_type": "code",
   "execution_count": null,
   "id": "aeed9fd9",
   "metadata": {},
   "outputs": [],
   "source": [
    "#transitioning to the two-class case\n",
    "y_train.replace(-1, 0, inplace=True)\n",
    "y_test.replace(-1, 0, inplace=True)\n",
    "y_val.replace(-1, 0, inplace=True)\n",
    "class_names = ['Not Staying',\"Staying\"]"
   ]
  },
  {
   "cell_type": "code",
   "execution_count": null,
   "id": "c5448516",
   "metadata": {},
   "outputs": [],
   "source": [
    "#create a feature selector and fit it, same as before, just condensed\n",
    "feature_selector0_n_u = BorutaShap.BorutaShap(model = clf0_n_u, importance_measure = 'shap', classification = True)\n",
    "feature_selector0_n_u.fit(X=X_train, y=y_train0, n_trials = 100)\n",
    "feature_selector0_n_u.TentativeRoughFix()\n",
    "subset = feature_selector0_n_u.Subset()\n",
    "subset.to_excel('BS_subset0_train_no_und.xlsx')\n",
    "feature_selector0_w_u.results_to_csv(filename='feature_importance0_no_und')"
   ]
  },
  {
   "cell_type": "code",
   "execution_count": null,
   "id": "5d9c67cc",
   "metadata": {},
   "outputs": [],
   "source": [
    "#create a feature selector and fit it, same as before, just condensed\n",
    "feature_selector1_n_u = BorutaShap.BorutaShap(model = clf1_n_u, importance_measure = 'shap', classification = True)\n",
    "feature_selector1_n_u.fit(X=X_train, y=y_train1, n_trials = 100)\n",
    "feature_selector1_n_u.TentativeRoughFix()\n",
    "subset = feature_selector1_n_u.Subset()\n",
    "subset.to_excel('BS_subset1_train_no_und.xlsx')\n",
    "feature_selector1_w_u.results_to_csv(filename='feature_importance1_no_und')"
   ]
  }
 ],
 "metadata": {
  "kernelspec": {
   "display_name": "Python 3 (ipykernel)",
   "language": "python",
   "name": "python3"
  },
  "language_info": {
   "codemirror_mode": {
    "name": "ipython",
    "version": 3
   },
   "file_extension": ".py",
   "mimetype": "text/x-python",
   "name": "python",
   "nbconvert_exporter": "python",
   "pygments_lexer": "ipython3",
   "version": "3.9.15"
  }
 },
 "nbformat": 4,
 "nbformat_minor": 5
}
