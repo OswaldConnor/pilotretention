{
 "cells": [
  {
   "cell_type": "code",
   "execution_count": 1,
   "id": "5d82abf2",
   "metadata": {},
   "outputs": [],
   "source": [
    "import pandas as pd"
   ]
  },
  {
   "cell_type": "code",
   "execution_count": 4,
   "id": "cdcb6b4a",
   "metadata": {},
   "outputs": [
    {
     "name": "stdout",
     "output_type": "stream",
     "text": [
      "50\n",
      "50\n",
      "250\n"
     ]
    }
   ],
   "source": [
    "#Read in dataset\n",
    "full_df = pd.read_excel('Data.xlsx')\n",
    "full_df = full_df.iloc[:350]\n",
    "\n",
    "#pull our 50 test points out\n",
    "test= full_df.sample(n=50)\n",
    "remaining = full_df.drop(test.index)\n",
    "#pull our 50 validation points out\n",
    "val = remaining.sample(n=50)\n",
    "train = remaining.drop(val.index)\n"
   ]
  },
  {
   "cell_type": "code",
   "execution_count": 7,
   "id": "9d97ff55",
   "metadata": {},
   "outputs": [],
   "source": [
    "#write the new sets to excel files for future use\n",
    "test.to_csv('test.csv', index= False)\n",
    "val.to_csv('val.csv',index = False)\n",
    "train.to_csv('train.csv', index= False)"
   ]
  },
  {
   "cell_type": "code",
   "execution_count": null,
   "id": "f0df871e",
   "metadata": {},
   "outputs": [],
   "source": []
  }
 ],
 "metadata": {
  "kernelspec": {
   "display_name": "Python 3 (ipykernel)",
   "language": "python",
   "name": "python3"
  },
  "language_info": {
   "codemirror_mode": {
    "name": "ipython",
    "version": 3
   },
   "file_extension": ".py",
   "mimetype": "text/x-python",
   "name": "python",
   "nbconvert_exporter": "python",
   "pygments_lexer": "ipython3",
   "version": "3.9.15"
  }
 },
 "nbformat": 4,
 "nbformat_minor": 5
}
